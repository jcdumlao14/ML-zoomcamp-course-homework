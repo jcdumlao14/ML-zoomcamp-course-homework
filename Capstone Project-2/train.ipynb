{
 "cells": [
  {
   "cell_type": "code",
   "execution_count": 1,
   "id": "27eaacb9",
   "metadata": {},
   "outputs": [],
   "source": [
    "import pickle\n",
    "\n",
    "import pandas as pd\n",
    "import numpy as np\n",
    "\n",
    "from sklearn.model_selection import train_test_split\n",
    "from sklearn.feature_extraction import DictVectorizer\n",
    "from sklearn.preprocessing import StandardScaler\n",
    "from sklearn.metrics import accuracy_score, f1_score, roc_auc_score\n",
    "from sklearn.ensemble import RandomForestClassifier\n"
   ]
  },
  {
   "cell_type": "code",
   "execution_count": 2,
   "id": "ca181e29",
   "metadata": {},
   "outputs": [],
   "source": [
    "# Parameters:"
   ]
  },
  {
   "cell_type": "code",
   "execution_count": 3,
   "id": "29b15ed2",
   "metadata": {},
   "outputs": [],
   "source": [
    "# Random Forest\n",
    "n_estimators = 50\n",
    "min_samples_leaf = 5\n",
    "max_depth =10\n",
    "random_state =1\n",
    "t = 0.4\n"
   ]
  },
  {
   "cell_type": "code",
   "execution_count": 4,
   "id": "d7b1578d",
   "metadata": {},
   "outputs": [],
   "source": [
    "# Cross-validation\n",
    "n_fold =5\n"
   ]
  },
  {
   "cell_type": "code",
   "execution_count": 5,
   "id": "aad6af1b",
   "metadata": {},
   "outputs": [],
   "source": [
    "# save file\n",
    "output_file = 'model_rf_t=0{}.bin'.format(int(t*10))"
   ]
  },
  {
   "cell_type": "code",
   "execution_count": 6,
   "id": "f4495e1b",
   "metadata": {},
   "outputs": [],
   "source": [
    "# 1. Load the Data"
   ]
  },
  {
   "cell_type": "code",
   "execution_count": 7,
   "id": "00025d8d",
   "metadata": {},
   "outputs": [
    {
     "name": "stdout",
     "output_type": "stream",
     "text": [
      "--2023-01-20 15:26:14--  https://raw.githubusercontent.com/jcdumlao14/ML-zoomcamp-course-homework/main/Capstone%20Project-2/heart_statlog_cleveland_hungary_final.csv\n",
      "Resolving raw.githubusercontent.com (raw.githubusercontent.com)... 185.199.108.133, 185.199.111.133, 185.199.109.133, ...\n",
      "Connecting to raw.githubusercontent.com (raw.githubusercontent.com)|185.199.108.133|:443... connected.\n",
      "HTTP request sent, awaiting response... 200 OK\n",
      "Length: 39689 (39K) [text/plain]\n",
      "Saving to: ‘heart_statlog_cleveland_hungary_final.csv.1’\n",
      "\n",
      "heart_statlog_cleve 100%[===================>]  38.76K  --.-KB/s    in 0.09s   \n",
      "\n",
      "2023-01-20 15:26:16 (409 KB/s) - ‘heart_statlog_cleveland_hungary_final.csv.1’ saved [39689/39689]\n",
      "\n"
     ]
    }
   ],
   "source": [
    "!wget https://raw.githubusercontent.com/jcdumlao14/ML-zoomcamp-course-homework/main/Capstone%20Project-2/heart_statlog_cleveland_hungary_final.csv\n",
    "     "
   ]
  },
  {
   "cell_type": "code",
   "execution_count": 8,
   "id": "830e600b",
   "metadata": {},
   "outputs": [],
   "source": [
    "df = pd.read_csv('heart_statlog_cleveland_hungary_final.csv')"
   ]
  },
  {
   "cell_type": "code",
   "execution_count": 9,
   "id": "4ac22cb4",
   "metadata": {},
   "outputs": [],
   "source": [
    "# 2. Data preparation"
   ]
  },
  {
   "cell_type": "code",
   "execution_count": 10,
   "id": "70546f9e",
   "metadata": {},
   "outputs": [],
   "source": [
    "df.columns = df.columns.str.lower().str.replace(' ', '_')\n",
    "\n",
    "string_columns = list(df.dtypes[df.dtypes == 'object'].index)\n",
    "\n",
    "for col in string_columns:\n",
    "    df[col] = df[col].str.lower().str.replace(' ', '_')"
   ]
  },
  {
   "cell_type": "code",
   "execution_count": 11,
   "id": "974c2ed5",
   "metadata": {},
   "outputs": [],
   "source": [
    "categorical = ['sex','chest_pain_type','resting_ecg','st_slope']\n",
    "numerical = ['age','resting_bp_s','cholesterol','fasting_blood_sugar','max_heart_rate','exercise_angina','oldpeak']"
   ]
  },
  {
   "cell_type": "code",
   "execution_count": 12,
   "id": "0f030f70",
   "metadata": {},
   "outputs": [],
   "source": [
    "\n",
    "#categorical = df.select_dtypes(include=['object']).columns.tolist()\n",
    "numerical = df.select_dtypes(include=['int64','float64']).columns.tolist()\n",
    "numerical.remove('target')"
   ]
  },
  {
   "cell_type": "code",
   "execution_count": 13,
   "id": "83e83b61",
   "metadata": {},
   "outputs": [],
   "source": [
    "# drop unrealistic null values\n"
   ]
  },
  {
   "cell_type": "code",
   "execution_count": 14,
   "id": "623a72e0",
   "metadata": {},
   "outputs": [],
   "source": [
    "# train/val/test split\n",
    "df_full_train, df_test = train_test_split(df, test_size=0.20, random_state=1)"
   ]
  },
  {
   "cell_type": "code",
   "execution_count": 15,
   "id": "890fdd30",
   "metadata": {},
   "outputs": [],
   "source": [
    "# separate the target\n",
    "y_train = df_full_train.target.values\n",
    "y_test = df_test.target.values"
   ]
  },
  {
   "cell_type": "code",
   "execution_count": 16,
   "id": "5c4eb1d7",
   "metadata": {},
   "outputs": [],
   "source": [
    "# reset indexes after splitting shuffling\n",
    "df_train = df_full_train.reset_index(drop=True)\n",
    "df_test = df_test.reset_index(drop=True)\n",
    "del df_test['target'] # remove the target"
   ]
  },
  {
   "cell_type": "code",
   "execution_count": 17,
   "id": "9b341dee",
   "metadata": {},
   "outputs": [],
   "source": [
    "# encode and scale\n",
    "dv = DictVectorizer(sparse=False)# for the categorical features\n",
    "scaler = StandardScaler() # for the numerical features\n"
   ]
  },
  {
   "cell_type": "code",
   "execution_count": 18,
   "id": "7898dd47",
   "metadata": {},
   "outputs": [],
   "source": [
    "# full training dataset\n",
    "train_dict = df_train[categorical].to_dict(orient='records')\n",
    "X_train_cat = dv.fit_transform(train_dict) # encode the categorical features"
   ]
  },
  {
   "cell_type": "code",
   "execution_count": 19,
   "id": "f23cda48",
   "metadata": {},
   "outputs": [],
   "source": [
    "X_train_num = df_train[numerical].values\n",
    "X_train_num = scaler.fit_transform(X_train_num) # scale the numerical features"
   ]
  },
  {
   "cell_type": "code",
   "execution_count": 20,
   "id": "42edb914",
   "metadata": {},
   "outputs": [],
   "source": [
    "X_train = np.column_stack([X_train_num, X_train_cat]) # join the matrices"
   ]
  },
  {
   "cell_type": "code",
   "execution_count": 21,
   "id": "66c9bfd2",
   "metadata": {},
   "outputs": [],
   "source": [
    "# test dataset\n",
    "test_dict = df_test[categorical].to_dict(orient='records')\n",
    "X_test_cat = dv.transform(test_dict) # encode the categorical features"
   ]
  },
  {
   "cell_type": "code",
   "execution_count": 22,
   "id": "781f30a9",
   "metadata": {},
   "outputs": [],
   "source": [
    "X_test_num = df_test[numerical].values\n",
    "X_test_num = scaler.transform(X_test_num) # scale the numerical features"
   ]
  },
  {
   "cell_type": "code",
   "execution_count": 23,
   "id": "b0e9059d",
   "metadata": {},
   "outputs": [],
   "source": [
    "X_test = np.column_stack([X_test_num, X_test_cat]) # join the matrices"
   ]
  },
  {
   "cell_type": "code",
   "execution_count": 24,
   "id": "d9879736",
   "metadata": {},
   "outputs": [],
   "source": [
    "# 3. Model training"
   ]
  },
  {
   "cell_type": "code",
   "execution_count": 25,
   "id": "43882a51",
   "metadata": {},
   "outputs": [
    {
     "name": "stdout",
     "output_type": "stream",
     "text": [
      "For the test dataset: ACC: 0.878 F1: 0.892 ROC,AUC: 0.967\n"
     ]
    }
   ],
   "source": [
    "rf = RandomForestClassifier(n_estimators=n_estimators,\n",
    "                           max_depth=max_depth,\n",
    "                           min_samples_leaf=min_samples_leaf,\n",
    "                           random_state=1)\n",
    "\n",
    "model = rf.fit(X_train,y_train)\n",
    "y_pred = rf.predict_proba(X_test)[:,1]\n",
    "acc = accuracy_score(y_test, y_pred >= t)\n",
    "f1 = f1_score(y_test, y_pred >= t)\n",
    "auc = roc_auc_score(y_test, y_pred)\n",
    "print('For the test dataset:','ACC:', acc.round(3),'F1:', f1.round(3),'ROC,AUC:', auc.round(3))"
   ]
  },
  {
   "cell_type": "code",
   "execution_count": 26,
   "id": "ec8a8be0",
   "metadata": {},
   "outputs": [],
   "source": [
    "# 4. save the model\n",
    "\n",
    "with open(output_file,'wb')as f_out:\n",
    "    pickle.dump((dv, scaler,model), f_out)\n"
   ]
  },
  {
   "cell_type": "code",
   "execution_count": 27,
   "id": "b85fee83",
   "metadata": {},
   "outputs": [
    {
     "name": "stdout",
     "output_type": "stream",
     "text": [
      "The model is saved to model_rf_t=04.bin\n"
     ]
    }
   ],
   "source": [
    "print(f'The model is saved to {output_file}')"
   ]
  },
  {
   "cell_type": "code",
   "execution_count": null,
   "id": "1dbc2a48",
   "metadata": {},
   "outputs": [],
   "source": []
  }
 ],
 "metadata": {
  "kernelspec": {
   "display_name": "Python 3",
   "language": "python",
   "name": "python3"
  },
  "language_info": {
   "codemirror_mode": {
    "name": "ipython",
    "version": 3
   },
   "file_extension": ".py",
   "mimetype": "text/x-python",
   "name": "python",
   "nbconvert_exporter": "python",
   "pygments_lexer": "ipython3",
   "version": "3.9.6"
  },
  "vscode": {
   "interpreter": {
    "hash": "aee8b7b246df8f9039afb4144a1f6fd8d2ca17a180786b69acc140d282b71a49"
   }
  }
 },
 "nbformat": 4,
 "nbformat_minor": 5
}
